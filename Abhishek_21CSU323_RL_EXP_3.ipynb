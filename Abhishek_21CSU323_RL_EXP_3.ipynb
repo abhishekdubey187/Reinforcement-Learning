{
 "cells": [
  {
   "cell_type": "markdown",
   "metadata": {},
   "source": [
    " Practical-3 : Write a python program to solve the multi-armed bandit problem using the exploration only, greedy algorithm and epsilon greedy\n",
    " algorithm. Compare the reward obtained with random sampling."
   ]
  },
  {
   "cell_type": "markdown",
   "metadata": {},
   "source": [
    "USING EXPLORATION AND COUNT NUMBER OF TIMES EACH MACHINE IS RUNNING "
   ]
  },
  {
   "cell_type": "code",
   "execution_count": 4,
   "metadata": {},
   "outputs": [
    {
     "name": "stdout",
     "output_type": "stream",
     "text": [
      "Estimated mean for Machine 1: 3.9575\n",
      "Estimated mean for Machine 2: 3.0728\n",
      "Estimated mean for Machine 3: 5.0990\n",
      "Estimated mean for Machine 4: 6.8987\n",
      "Estimated mean for Machine 5: 2.0217\n",
      "Machine 1 has been run 213 times\n",
      "Machine 2 has been run 183 times\n",
      "Machine 3 has been run 174 times\n",
      "Machine 4 has been run 216 times\n",
      "Machine 5 has been run 214 times\n",
      "Total cumulative reward: 4215.2582860576795\n"
     ]
    }
   ],
   "source": [
    "\n",
    "\n",
    "import numpy as np\n",
    "\n",
    "class Machine:\n",
    "    def __init__(self, true_mean):\n",
    "        self.true_mean = true_mean\n",
    "        self.sample_count = 0\n",
    "        self.sample_mean = 0\n",
    "\n",
    "    def pull(self):\n",
    "        reward = np.random.randn() + self.true_mean\n",
    "        self.sample_count += 1\n",
    "        self.sample_mean = (1 - 1.0/self.sample_count) * self.sample_mean + (1.0/self.sample_count) * reward\n",
    "        return reward\n",
    "\n",
    "def random_machine_choice(machines, num_trials):\n",
    "    rewards = np.zeros(num_trials)\n",
    "    machine_counts = [0] * len(machines)  # List to keep track of the number of times each machine is chosen\n",
    "    \n",
    "    for trial in range(num_trials):\n",
    "        chosen_machine = np.random.randint(len(machines))  # Randomly choose a machine\n",
    "        machine_counts[chosen_machine] += 1  # Increment the count for the chosen machine\n",
    "        \n",
    "        # Pull the chosen machine\n",
    "        reward = machines[chosen_machine].pull()\n",
    "        rewards[trial] = reward\n",
    "        \n",
    "    return rewards, machine_counts\n",
    "\n",
    "# Number of machines and their true means\n",
    "num_machines = 5\n",
    "true_means = [4.0, 3.0, 5.0, 7.0, 2.0]\n",
    "\n",
    "# Initialize machines\n",
    "machines = [Machine(true_mean) for true_mean in true_means]\n",
    "\n",
    "# Set the number of trials\n",
    "num_trials = 1000\n",
    "\n",
    "# Run the random machine choice strategy\n",
    "rewards, machine_counts = random_machine_choice(machines, num_trials)\n",
    "\n",
    "# Print the estimated means of each machine\n",
    "for i, m in enumerate(machines):\n",
    "    print(f\"Estimated mean for Machine {i + 1}: {m.sample_mean:.4f}\")\n",
    "\n",
    "# Print the number of times each machine has been run\n",
    "for i, count in enumerate(machine_counts):\n",
    "    print(f\"Machine {i + 1} has been run {count} times\")\n",
    "\n",
    "# Print the total cumulative reward over all trials\n",
    "print(f\"Total cumulative reward: {np.sum(rewards)}\")\n"
   ]
  },
  {
   "cell_type": "markdown",
   "metadata": {},
   "source": [
    "USING GREEDY ALGORITHM"
   ]
  },
  {
   "cell_type": "code",
   "execution_count": 7,
   "metadata": {},
   "outputs": [
    {
     "name": "stdout",
     "output_type": "stream",
     "text": [
      "Estimated mean for Machine 1: 4.0342\n",
      "Estimated mean for Machine 2: 0.0000\n",
      "Estimated mean for Machine 3: 0.0000\n",
      "Estimated mean for Machine 4: 0.0000\n",
      "Estimated mean for Machine 5: 0.0000\n",
      "Total cumulative reward: 4034.1830946887626\n"
     ]
    }
   ],
   "source": [
    "import numpy as np\n",
    "\n",
    "class Machine:\n",
    "    def __init__(self, true_mean):\n",
    "        self.true_mean = true_mean\n",
    "        self.sample_count = 0\n",
    "        self.sample_mean = 0\n",
    "\n",
    "    def pull(self):\n",
    "       \n",
    "        reward = np.random.randn() + self.true_mean\n",
    "        self.sample_count += 1\n",
    "        self.sample_mean = (1 - 1.0/self.sample_count) * self.sample_mean + (1.0/self.sample_count) * reward\n",
    "        return reward\n",
    "\n",
    "def greedy_algorithm(machines, num_trials):\n",
    "    rewards = np.zeros(num_trials)\n",
    "    \n",
    "    for trial in range(num_trials):\n",
    "        # Choose the machine with the highest estimated mean (greedy choice)\n",
    "        chosen_machine = np.argmax([m.sample_mean for m in machines])\n",
    "        \n",
    "        # Pull the chosen machine\n",
    "        reward = machines[chosen_machine].pull()\n",
    "        rewards[trial] = reward\n",
    "        \n",
    "    return rewards\n",
    "\n",
    "# Number of machines and their true means\n",
    "num_machines = 5\n",
    "true_means = [4.0, 3.0, 5.0, 7.0, 2.0]\n",
    "\n",
    "# Initialize machines\n",
    "machines = [Machine(true_mean) for true_mean in true_means]\n",
    "\n",
    "# Set the number of trials\n",
    "num_trials = 1000\n",
    "\n",
    "# Run the greedy algorithm\n",
    "rewards = greedy_algorithm(machines, num_trials)\n",
    "\n",
    "# Print the estimated means of each machine\n",
    "for i, m in enumerate(machines):\n",
    "    print(f\"Estimated mean for Machine {i + 1}: {m.sample_mean:.4f}\")\n",
    "\n",
    "# Print the total cumulative reward over all trials\n",
    "print(f\"Total cumulative reward: {np.sum(rewards)}\")\n"
   ]
  },
  {
   "cell_type": "markdown",
   "metadata": {},
   "source": [
    "USING EPSILON-GREEDY ALGORITHM"
   ]
  },
  {
   "cell_type": "code",
   "execution_count": 19,
   "metadata": {},
   "outputs": [
    {
     "name": "stdout",
     "output_type": "stream",
     "text": [
      "Estimated mean for Machine 1: 4.0435\n",
      "Estimated mean for Machine 2: 2.4800\n",
      "Estimated mean for Machine 3: 5.1999\n",
      "Estimated mean for Machine 4: 6.9911\n",
      "Estimated mean for Machine 5: 1.6865\n",
      "Machine 1 has been run 66 times\n",
      "Machine 2 has been run 19 times\n",
      "Machine 3 has been run 20 times\n",
      "Machine 4 has been run 870 times\n",
      "Machine 5 has been run 25 times\n",
      "Total cumulative reward: 6542.417793370736\n"
     ]
    }
   ],
   "source": [
    "import numpy as np\n",
    "\n",
    "class Machine:\n",
    "    def __init__(self, true_mean):\n",
    "        self.true_mean = true_mean\n",
    "        self.sample_count = 0\n",
    "        self.sample_mean = 0\n",
    "\n",
    "    def pull(self):\n",
    "        reward = np.random.randn() + self.true_mean\n",
    "        self.sample_count += 1\n",
    "        self.sample_mean = (1 - 1.0/self.sample_count) * self.sample_mean + (1.0/self.sample_count) * reward\n",
    "        return reward\n",
    "\n",
    "def epsilon_greedy(machines, epsilon, num_trials):\n",
    "    rewards = np.zeros(num_trials)\n",
    "    machine_counts = [0] * len(machines)\n",
    "    \n",
    "    for trial in range(num_trials):\n",
    "        if np.random.rand() < epsilon:\n",
    "            # Explore: Randomly choose a machine\n",
    "            chosen_machine = np.random.randint(len(machines))\n",
    "        else:\n",
    "            # Exploit: Choose the machine with the highest estimated mean\n",
    "            chosen_machine = np.argmax([m.sample_mean for m in machines])\n",
    "            \n",
    "        machine_counts[chosen_machine] += 1\n",
    "        reward = machines[chosen_machine].pull()\n",
    "        rewards[trial] = reward\n",
    "        \n",
    "    return rewards, machine_counts\n",
    "\n",
    "# Number of machines and their true means\n",
    "num_machines = 5\n",
    "true_means = [4.0, 3.0, 5.0, 7.0, 2.0]\n",
    "\n",
    "# Initialize machines\n",
    "machines = [Machine(true_mean) for true_mean in true_means]\n",
    "\n",
    "# Set the number of trials and epsilon value\n",
    "num_trials = 1000\n",
    "epsilon = 0.1  # You can adjust epsilon as needed\n",
    "\n",
    "# Run the epsilon-greedy strategy\n",
    "rewards, machine_counts = epsilon_greedy(machines, epsilon, num_trials)\n",
    "\n",
    "# Print the estimated means of each machine\n",
    "for i, m in enumerate(machines):\n",
    "    print(f\"Estimated mean for Machine {i + 1}: {m.sample_mean:.4f}\")\n",
    "\n",
    "# Print the number of times each machine has been run\n",
    "for i, count in enumerate(machine_counts):\n",
    "    print(f\"Machine {i + 1} has been run {count} times\")\n",
    "\n",
    "# Print the total cumulative reward over all trials\n",
    "print(f\"Total cumulative reward: {np.sum(rewards)}\")\n"
   ]
  }
 ],
 "metadata": {
  "kernelspec": {
   "display_name": "Python 3",
   "language": "python",
   "name": "python3"
  },
  "language_info": {
   "codemirror_mode": {
    "name": "ipython",
    "version": 3
   },
   "file_extension": ".py",
   "mimetype": "text/x-python",
   "name": "python",
   "nbconvert_exporter": "python",
   "pygments_lexer": "ipython3",
   "version": "3.11.5"
  },
  "orig_nbformat": 4
 },
 "nbformat": 4,
 "nbformat_minor": 2
}
